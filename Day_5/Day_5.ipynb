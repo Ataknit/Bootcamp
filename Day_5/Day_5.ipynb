{
 "cells": [
  {
   "cell_type": "markdown",
   "metadata": {},
   "source": [
    "### Exercice 1:\n",
    "Write a Python program to find the value of n where n degrees of number 2 are written sequentially in a line without spaces."
   ]
  },
  {
   "cell_type": "markdown",
   "metadata": {},
   "source": [
    "### Solution:"
   ]
  },
  {
   "cell_type": "code",
   "execution_count": 45,
   "metadata": {},
   "outputs": [
    {
     "data": {
      "text/plain": [
       "6"
      ]
     },
     "execution_count": 45,
     "metadata": {},
     "output_type": "execute_result"
    }
   ],
   "source": [
    "num=\"248163264\"\n",
    "def power_2 (num):\n",
    "    test=True\n",
    "    x=2\n",
    "    i=1\n",
    "    while test:\n",
    "        if str(x) in num:\n",
    "            i=i+1\n",
    "            x= pow(2,i)\n",
    "        else:\n",
    "            test=False\n",
    "    return i-1\n",
    "power_2(num)"
   ]
  },
  {
   "cell_type": "markdown",
   "metadata": {},
   "source": [
    "### Exercice 2:\n",
    "Write a Python program to create a sequence where the first four members of the sequence are equal to one, and each successive term of the sequence is equal to the sum of the four previous ones. Find the Nth member of the sequence."
   ]
  },
  {
   "cell_type": "code",
   "execution_count": 98,
   "metadata": {},
   "outputs": [
    {
     "name": "stdout",
     "output_type": "stream",
     "text": [
      "111147\n",
      "7\n"
     ]
    }
   ],
   "source": [
    "n=6\n",
    "seq=\"1111\"\n",
    "s=0\n",
    "while len(seq)<n:\n",
    "    for i in seq[-4:]:\n",
    "        s=s+int(i)\n",
    "    seq=seq+str(s)\n",
    "    s=0\n",
    "print(seq)\n",
    "print(seq[n-1])"
   ]
  }
 ],
 "metadata": {
  "kernelspec": {
   "display_name": "Python 3",
   "language": "python",
   "name": "python3"
  }
 },
 "nbformat": 4,
 "nbformat_minor": 4
}
