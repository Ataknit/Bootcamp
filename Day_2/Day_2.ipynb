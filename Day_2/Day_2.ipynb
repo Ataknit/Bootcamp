{
 "cells": [
  {
   "cell_type": "markdown",
   "metadata": {},
   "source": [
    "### Exercice 1:\n",
    "Write a Python program to create all possible strings by using 'a', 'e', 'i', 'o', 'u'. Use the characters exactly once. "
   ]
  },
  {
   "cell_type": "markdown",
   "metadata": {},
   "source": [
    "### Solution:\n",
    "This function generalises the solution for this exercise."
   ]
  },
  {
   "cell_type": "code",
   "execution_count": 3,
   "metadata": {},
   "outputs": [],
   "source": [
    "def deep_copy(List):\n",
    "    result=[]\n",
    "    for x in List:\n",
    "        result.insert(0,x)\n",
    "    return result\n",
    "\n",
    "def compose(List,Results=[],result = \"\"):\n",
    "    if(len(List)==1):\n",
    "        result += List[0]\n",
    "        print(result)\n",
    "        Results.append(result)\n",
    "    else:\n",
    "        box = deep_copy(List)\n",
    "        for e in List:\n",
    "            result += e\n",
    "            temp_1 = e\n",
    "            box.pop(box.index(e))\n",
    "            compose(box, Results, result)\n",
    "            result = result[:-1]\n",
    "            box.insert(0,temp_1)\n",
    "            \n",
    "List=[\"a\", \"e\", \"i\",\"o\",\"u\"]\n",
    "# outcomment to see result\n",
    "# compose(List)"
   ]
  },
  {
   "cell_type": "markdown",
   "metadata": {},
   "source": [
    "### Exercise 2:\n",
    "Write a Python program to remove and print every third number from a list of numbers until the list becomes empty.\n"
   ]
  },
  {
   "cell_type": "markdown",
   "metadata": {},
   "source": [
    "### Solution :"
   ]
  },
  {
   "cell_type": "code",
   "execution_count": 11,
   "metadata": {},
   "outputs": [],
   "source": [
    "def third_number(List):\n",
    "    i=2\n",
    "    l=len(List)\n",
    "    while i<=l: \n",
    "            l=len(List)\n",
    "            print(List.pop(i))\n",
    "            i=i+2\n",
    "    return List\n"
   ]
  },
  {
   "cell_type": "code",
   "execution_count": 12,
   "metadata": {},
   "outputs": [
    {
     "name": "stdout",
     "output_type": "stream",
     "text": [
      "23\n",
      "2\n",
      "1\n"
     ]
    },
    {
     "data": {
      "text/plain": [
       "[4, 62, 103, 5, 92, 48]"
      ]
     },
     "execution_count": 12,
     "metadata": {},
     "output_type": "execute_result"
    }
   ],
   "source": [
    "List=[4,62,23,103,5,2,92,48,1]\n",
    "third_number(List)"
   ]
  }
 ],
 "metadata": {
  "kernelspec": {
   "display_name": "Python 3",
   "language": "python",
   "name": "python3"
  },
  "language_info": {
   "codemirror_mode": {
    "name": "ipython",
    "version": 3
   },
   "file_extension": ".py",
   "mimetype": "text/x-python",
   "name": "python",
   "nbconvert_exporter": "python",
   "pygments_lexer": "ipython3",
   "version": "3.7.6"
  }
 },
 "nbformat": 4,
 "nbformat_minor": 4
}
