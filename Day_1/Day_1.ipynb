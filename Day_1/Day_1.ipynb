{
 "cells": [
  {
   "cell_type": "markdown",
   "metadata": {},
   "source": [
    "# Day 1: Basics part I"
   ]
  },
  {
   "cell_type": "markdown",
   "metadata": {},
   "source": [
    "1. Write a Python program to print the following string in a specific format (see the output). Go to the editor\n",
    "Sample String : \"Twinkle, twinkle, little star, How I wonder what you are! Up above the world so high, Like a diamond in the sky. Twinkle, twinkle, little star, How I wonder what you are\" Output :"
   ]
  },
  {
   "cell_type": "code",
   "execution_count": 11,
   "metadata": {
    "scrolled": true
   },
   "outputs": [
    {
     "data": {
      "image/png": "[encoded data removed]",
      "text/plain": [
       "<IPython.core.display.Image object>"
      ]
     },
     "execution_count": 11,
     "metadata": {},
     "output_type": "execute_result"
    }
   ],
   "source": [
    "from IPython import display\n",
    "display.Image(r\"C:\\Users\\Idris\\Desktop\\Bootcamp\\day1_1.PNG\")"
   ]
  },
  {
   "cell_type": "code",
   "execution_count": 20,
   "metadata": {},
   "outputs": [
    {
     "name": "stdout",
     "output_type": "stream",
     "text": [
      "Twinkle, twinkle, little star,\n",
      "\t How I wonder what you are! \n",
      "\t \t Up above the world so high, \n",
      " \t \tLike a diamond in the sky. \n",
      " Twinkle, twinkle, little star,\n",
      " \t How I wonder what you are! \n",
      "\n"
     ]
    }
   ],
   "source": [
    "def sing_twinkle():\n",
    "    print(\"Twinkle, twinkle, little star,\\n\"\n",
    "     \"\\t How I wonder what you are! \\n\"\n",
    "      \"\\t \\t Up above the world so high, \\n \"\n",
    "      \"\\t \\tLike a diamond in the sky. \\n \"\n",
    "      \"Twinkle, twinkle, little star,\\n \" \n",
    "      \"\\t How I wonder what you are! \\n\") \n",
    "sing_twinkle()   "
   ]
  },
  {
   "cell_type": "markdown",
   "metadata": {},
   "source": [
    "2. Write a Python program to get the Python version you are using."
   ]
  },
  {
   "cell_type": "code",
   "execution_count": 19,
   "metadata": {},
   "outputs": [
    {
     "name": "stdout",
     "output_type": "stream",
     "text": [
      "3.7.6\n"
     ]
    }
   ],
   "source": [
    "from platform import python_version\n",
    "\n",
    "print(python_version())"
   ]
  },
  {
   "cell_type": "markdown",
   "metadata": {},
   "source": [
    "3. Write a Python program which accepts a sequence of comma-separated numbers from user and generate a list and a tuple with those numbers. \n",
    "Sample data : 3, 5, 7, 23\n",
    "Output :\n",
    "List : ['3', ' 5', ' 7', ' 23']\n",
    "Tuple : ('3', ' 5', ' 7', ' 23')"
   ]
  },
  {
   "cell_type": "code",
   "execution_count": 49,
   "metadata": {},
   "outputs": [],
   "source": [
    "def numbers(seq):\n",
    "    x = []\n",
    "    y = \"\"\n",
    "    for element in string_name:\n",
    "        if element != \",\":\n",
    "            y = y + element\n",
    "        else:\n",
    "            x.append(y)\n",
    "            y=\"\"\n",
    "    x.append(y)\n",
    "    return f\"List : {x} Tuple : {tuple(x)} \""
   ]
  },
  {
   "cell_type": "code",
   "execution_count": 50,
   "metadata": {},
   "outputs": [
    {
     "data": {
      "text/plain": [
       "\"List : ['3', ' 5', ' 7', ' 253'] Tuple : ('3', ' 5', ' 7', ' 253') \""
      ]
     },
     "execution_count": 50,
     "metadata": {},
     "output_type": "execute_result"
    }
   ],
   "source": [
    "numbers(\"3, 6, 9, 140\")"
   ]
  },
  {
   "cell_type": "markdown",
   "metadata": {},
   "source": [
    "4. Write a Python program to display the examination schedule. (extract the date from exam_st_date). \n",
    "exam_st_date = (11, 12, 2014)\n",
    "Sample Output : The examination will start from : 11 / 12 / 2014"
   ]
  },
  {
   "cell_type": "code",
   "execution_count": 69,
   "metadata": {},
   "outputs": [],
   "source": [
    "def date(string_name):\n",
    "    y = \"\"\n",
    "    for element in string_name:\n",
    "        if element != \",\" and element != \"(\" and element != \")\":\n",
    "             y = y + element \n",
    "        elif element == \",\":\n",
    "            y = y + \"/\"\n",
    "    return f\"The examination will start from : {y}\""
   ]
  },
  {
   "cell_type": "code",
   "execution_count": 71,
   "metadata": {},
   "outputs": [
    {
     "data": {
      "text/plain": [
       "'The examination will start from : 22/ 11/ 2001'"
      ]
     },
     "execution_count": 71,
     "metadata": {},
     "output_type": "execute_result"
    }
   ],
   "source": [
    "date(\"(22, 11, 2001)\")"
   ]
  },
  {
   "cell_type": "markdown",
   "metadata": {},
   "source": [
    "5. Write a Python program that accepts an integer (n) and computes the value of n+nn+nnn. \n"
   ]
  },
  {
   "cell_type": "code",
   "execution_count": 11,
   "metadata": {},
   "outputs": [],
   "source": [
    "def calc(n):\n",
    "    a = n+n\n",
    "    b = n+n+n\n",
    "    x = int(n) + int(a) + int(b)\n",
    "    print(x)\n"
   ]
  },
  {
   "cell_type": "code",
   "execution_count": 12,
   "metadata": {},
   "outputs": [
    {
     "name": "stdout",
     "output_type": "stream",
     "text": [
      "615\n"
     ]
    }
   ],
   "source": [
    "calc(\"5\")"
   ]
  },
  {
   "cell_type": "code",
   "execution_count": 19,
   "metadata": {
    "scrolled": true
   },
   "outputs": [
    {
     "name": "stdout",
     "output_type": "stream",
     "text": [
      "      May 2021\n",
      "Mo Tu We Th Fr Sa Su\n",
      "                1  2\n",
      " 3  4  5  6  7  8  9\n",
      "10 11 12 13 14 15 16\n",
      "17 18 19 20 21 22 23\n",
      "24 25 26 27 28 29 30\n",
      "31\n",
      "\n"
     ]
    }
   ],
   "source": [
    "import calendar \n",
    "    \n",
    "yy = 2021\n",
    "mm = 5\n",
    "    \n",
    "print(calendar.month(yy, mm)) "
   ]
  },
  {
   "cell_type": "markdown",
   "metadata": {},
   "source": [
    "6.Write a Python program to calculate number of days between two dates.\n",
    "Sample dates : (2014, 7, 2), (2014, 7, 11)\n",
    "Expected output : 9 days\n"
   ]
  },
  {
   "cell_type": "code",
   "execution_count": 76,
   "metadata": {
    "scrolled": false
   },
   "outputs": [
    {
     "name": "stdout",
     "output_type": "stream",
     "text": [
      "435\n"
     ]
    }
   ],
   "source": [
    "date1 = \"2013, 5, 17\"\n",
    "date2 = \"2014, 7, 27\"\n",
    "x = \"\"\n",
    "y = \"\"\n",
    "for element in date1:\n",
    "        if element != \",\":\n",
    "            x = f\"{x}{element}\"\n",
    "for element in date2:\n",
    "        if element != \",\":\n",
    "            y = f\"{y}{element}\"\n",
    "a = abs(int(x[:4])- int(y[:4]))\n",
    "b = abs(int(x[5:7])- int(y[5:7]))\n",
    "c = abs(int(x[7:])- int(y[7:]))\n",
    "z = a*365 + b*30 + c\n",
    "print(z)"
   ]
  },
  {
   "cell_type": "markdown",
   "metadata": {},
   "source": [
    "1. Write a Python function that takes a sequence of numbers and determines whether all the numbers are different from each other. \n"
   ]
  },
  {
   "cell_type": "code",
   "execution_count": 112,
   "metadata": {},
   "outputs": [],
   "source": [
    "def diff(sequence):\n",
    "    number_of_elements=len(sequence)\n",
    "    for i in range(number_of_elements):\n",
    "        current_number=sequence[i]\n",
    "        for j in range(number_of_elements):\n",
    "            if sequence[j] == current_number and j!=i:\n",
    "                return False \n",
    "    return True\n"
   ]
  },
  {
   "cell_type": "code",
   "execution_count": 113,
   "metadata": {},
   "outputs": [
    {
     "data": {
      "text/plain": [
       "False"
      ]
     },
     "execution_count": 113,
     "metadata": {},
     "output_type": "execute_result"
    }
   ],
   "source": [
    "seq=[2, 12, 42, 9, 5, 12, 2]\n",
    "diff(seq)"
   ]
  },
  {
   "cell_type": "code",
   "execution_count": null,
   "metadata": {},
   "outputs": [],
   "source": []
  }
 ],
 "metadata": {
  "kernelspec": {
   "display_name": "Python 3",
   "language": "python",
   "name": "python3"
  },
  "language_info": {
   "codemirror_mode": {
    "name": "ipython",
    "version": 3
   },
   "file_extension": ".py",
   "mimetype": "text/x-python",
   "name": "python",
   "nbconvert_exporter": "python",
   "pygments_lexer": "ipython3",
   "version": "3.7.6"
  }
 },
 "nbformat": 4,
 "nbformat_minor": 4
}
