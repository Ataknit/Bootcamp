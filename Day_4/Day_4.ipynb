{
 "cells": [
  {
   "cell_type": "markdown",
   "metadata": {},
   "source": [
    "### Exercice 1:\n",
    "Write a Python program to get all possible two digit letter combinations from a digit (1 to 9) string. \n",
    "string_maps = {\n",
    "\"1\": \"abc\",\n",
    "\"2\": \"def\",\n",
    "\"3\": \"ghi\",\n",
    "\"4\": \"jkl\",\n",
    "\"5\": \"mno\",\n",
    "\"6\": \"pqrs\",\n",
    "\"7\": \"tuv\",\n",
    "\"8\": \"wxy\",\n",
    "\"9\": \"z\"\n",
    "}\n"
   ]
  },
  {
   "cell_type": "markdown",
   "metadata": {},
   "source": [
    "### Solution:"
   ]
  },
  {
   "cell_type": "code",
   "execution_count": 21,
   "metadata": {},
   "outputs": [
    {
     "name": "stdout",
     "output_type": "stream",
     "text": [
      "['aj', 'ja', 'ak', 'ka', 'al', 'la', 'bj', 'jb', 'bk', 'kb', 'bl', 'lb', 'cj', 'jc', 'ck', 'kc', 'cl', 'lc']\n"
     ]
    }
   ],
   "source": [
    "string_maps = { \"1\": \"abc\", \"2\": \"def\", \"3\": \"ghi\", \"4\": \"jkl\", \"5\": \"mno\", \"6\": \"pqrs\", \"7\": \"tuv\", \"8\": \"wxy\", \"9\": \"z\" }\n",
    "def combinations(a,b,string_maps):\n",
    "    result=[]\n",
    "    source_1=string_maps[a]\n",
    "    source_2=string_maps[b]\n",
    "    for i in source_1:\n",
    "        for j in source_2:\n",
    "            seq=i+j\n",
    "            seq2=j+i\n",
    "            result.append(seq)\n",
    "            result.append(seq2)\n",
    "\n",
    "    print(result)\n",
    "\n",
    "combinations(\"1\",\"4\",string_maps)\n",
    "\n"
   ]
  },
  {
   "cell_type": "markdown",
   "metadata": {},
   "source": [
    "### Exercice 2:\n",
    "Write a Python program to add two positive integers without using the '+' operator. \n",
    "Note: Use bit wise operations to add two numbers.\n"
   ]
  },
  {
   "cell_type": "markdown",
   "metadata": {},
   "source": [
    "### Solution:"
   ]
  },
  {
   "cell_type": "code",
   "execution_count": 19,
   "metadata": {},
   "outputs": [
    {
     "data": {
      "text/plain": [
       "8"
      ]
     },
     "execution_count": 19,
     "metadata": {},
     "output_type": "execute_result"
    }
   ],
   "source": [
    "#from geeksforgeeks\n",
    "def addOne(x) :\n",
    "    m = 1;\n",
    "    while(x & m):\n",
    "        x = x ^ m\n",
    "        m <<= 1\n",
    "    x = x ^ m\n",
    "    return x\n",
    "\n",
    "def addition(x,y):\n",
    "    for i in range(y):\n",
    "        x = addOne(x)\n",
    "    return x\n",
    "addition(5,3)"
   ]
  },
  {
   "cell_type": "markdown",
   "metadata": {},
   "source": [
    "### Exercice 3:\n",
    "\n",
    "A strobogrammatic number is a number whose numeral is rotationally symmetric, so that it appears the same when rotated 180 degrees. In other words, the numeral looks the same right-side up and upside down (e.g., 69, 96, 1001).\n",
    "For example,\n",
    "Given n = 2, return [\"11\", \"69\", \"88\", \"96\"].\n",
    "Given n = 3, return ['818', '111', '916', '619', '808', '101', '906', '609', '888', '181', '986', '689']\n",
    "\n",
    "11 69 88 96 \n",
    "101 111 181 609 619 689 808 818 888 906 916 986"
   ]
  },
  {
   "cell_type": "code",
   "execution_count": 135,
   "metadata": {},
   "outputs": [
    {
     "data": {
      "text/plain": [
       "False"
      ]
     },
     "execution_count": 135,
     "metadata": {},
     "output_type": "execute_result"
    }
   ],
   "source": [
    "def bigbig(n):\n",
    "    x=\"1\"\n",
    "    for i in range(n):\n",
    "        x=x+\"0\"\n",
    "    return int(x)\n",
    "def is_correct(element,n):\n",
    "    List=[\"1\",\"6\",\"9\",\"8\",\"0\"]\n",
    "    is_correct=True\n",
    "    if len(element) != n:\n",
    "        return False\n",
    "    for i in range(len(element)//2):\n",
    "            if element[i] in List:\n",
    "                is_1=element[i]==\"1\"\n",
    "                is_8=element[i]==\"8\"\n",
    "                is_0=element[i]==\"0\"\n",
    "                is_6=element[i]==\"6\"\n",
    "                is_9=element[i]==\"9\"\n",
    "                is_symetric= element[i] == element[-i-1]\n",
    "                is_asymetric= is_6 and \"9\" == element[-i-1] or is_9 and \"6\"== element[-i-1]\n",
    "    \n",
    "#                 print(f\"current_element {element}\")\n",
    "#                 print(f\"current_element i {element[i]}\")\n",
    "#                 print(f\"is_1 {is_1}\")\n",
    "#                 print(f\"is_8 {is_8}\")\n",
    "#                 print(f\"is_0 {is_0}\")\n",
    "#                 print(f\"is_6 {is_6}\")\n",
    "#                 print(f\"is_9 {is_9}\")\n",
    "#                 print(f\"is_sym {is_symetric}\")\n",
    "#                 print(f\"is_asym {is_asymetric}\")\n",
    "                is_correct=is_correct and ((is_1 or is_8 or is_0) and is_symetric) or ((is_6 or is_9) and is_asymetric)\n",
    "                if not is_correct:\n",
    "                    return False\n",
    "            else:\n",
    "                return False\n",
    "    if n%2 != 0 :\n",
    "        is_1=element[len(element)//2]==\"1\"\n",
    "        is_8=element[len(element)//2]==\"8\"\n",
    "        is_0=element[len(element)//2]==\"0\"\n",
    "        if not (is_1 or is_8 or is_0):\n",
    "            return False\n",
    "    return is_correct\n",
    "is_correct(\"848\",3)"
   ]
  },
  {
   "cell_type": "code",
   "execution_count": 136,
   "metadata": {},
   "outputs": [],
   "source": [
    "def strobo(n):\n",
    "    result=[]\n",
    "    for element in range(bigbig(n)):\n",
    "        current_element = str(element)\n",
    "        add=is_correct(current_element,n)\n",
    "       \n",
    "        if add:\n",
    "            result.append(current_element)\n",
    "    return result"
   ]
  },
  {
   "cell_type": "code",
   "execution_count": 138,
   "metadata": {
    "scrolled": true
   },
   "outputs": [
    {
     "data": {
      "text/plain": [
       "['10001',\n",
       " '10101',\n",
       " '10801',\n",
       " '11011',\n",
       " '11111',\n",
       " '11811',\n",
       " '16091',\n",
       " '16191',\n",
       " '16891',\n",
       " '18081',\n",
       " '18181',\n",
       " '18881',\n",
       " '19061',\n",
       " '19161',\n",
       " '19861',\n",
       " '60009',\n",
       " '60109',\n",
       " '60809',\n",
       " '61019',\n",
       " '61119',\n",
       " '61819',\n",
       " '66099',\n",
       " '66199',\n",
       " '66899',\n",
       " '68089',\n",
       " '68189',\n",
       " '68889',\n",
       " '69069',\n",
       " '69169',\n",
       " '69869',\n",
       " '80008',\n",
       " '80108',\n",
       " '80808',\n",
       " '81018',\n",
       " '81118',\n",
       " '81818',\n",
       " '86098',\n",
       " '86198',\n",
       " '86898',\n",
       " '88088',\n",
       " '88188',\n",
       " '88888',\n",
       " '89068',\n",
       " '89168',\n",
       " '89868',\n",
       " '90006',\n",
       " '90106',\n",
       " '90806',\n",
       " '91016',\n",
       " '91116',\n",
       " '91816',\n",
       " '96096',\n",
       " '96196',\n",
       " '96896',\n",
       " '98086',\n",
       " '98186',\n",
       " '98886',\n",
       " '99066',\n",
       " '99166',\n",
       " '99866']"
      ]
     },
     "execution_count": 138,
     "metadata": {},
     "output_type": "execute_result"
    }
   ],
   "source": [
    "strobo(5)"
   ]
  },
  {
   "cell_type": "code",
   "execution_count": 30,
   "metadata": {},
   "outputs": [
    {
     "data": {
      "text/plain": [
       "10000"
      ]
     },
     "execution_count": 30,
     "metadata": {},
     "output_type": "execute_result"
    }
   ],
   "source": [
    "bigbig(4)"
   ]
  },
  {
   "cell_type": "code",
   "execution_count": 38,
   "metadata": {},
   "outputs": [
    {
     "name": "stdout",
     "output_type": "stream",
     "text": [
      "1\n"
     ]
    }
   ],
   "source": [
    "x=4229652551\n",
    "y=str(x)\n",
    "print(y[-1])\n"
   ]
  },
  {
   "cell_type": "code",
   "execution_count": 42,
   "metadata": {},
   "outputs": [
    {
     "name": "stdout",
     "output_type": "stream",
     "text": [
      "works\n"
     ]
    }
   ],
   "source": [
    "current_element = \"123456789\"\n",
    "if True or True or True:\n",
    "    print(\"works\")"
   ]
  },
  {
   "cell_type": "code",
   "execution_count": null,
   "metadata": {},
   "outputs": [],
   "source": []
  }
 ],
 "metadata": {
  "kernelspec": {
   "display_name": "Python 3",
   "language": "python",
   "name": "python3"
  },
  "language_info": {
   "codemirror_mode": {
    "name": "ipython",
    "version": 3
   },
   "file_extension": ".py",
   "mimetype": "text/x-python",
   "name": "python",
   "nbconvert_exporter": "python",
   "pygments_lexer": "ipython3",
   "version": "3.7.6"
  }
 },
 "nbformat": 4,
 "nbformat_minor": 4
}
