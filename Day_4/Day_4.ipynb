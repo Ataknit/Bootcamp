{
 "cells": [
  {
   "cell_type": "markdown",
   "metadata": {},
   "source": [
    "### Exercice 1:\n",
    "Write a Python program to get all possible two digit letter combinations from a digit (1 to 9) string. \n",
    "string_maps = {\n",
    "\"1\": \"abc\",\n",
    "\"2\": \"def\",\n",
    "\"3\": \"ghi\",\n",
    "\"4\": \"jkl\",\n",
    "\"5\": \"mno\",\n",
    "\"6\": \"pqrs\",\n",
    "\"7\": \"tuv\",\n",
    "\"8\": \"wxy\",\n",
    "\"9\": \"z\"\n",
    "}\n"
   ]
  },
  {
   "cell_type": "markdown",
   "metadata": {},
   "source": [
    "### Solution:"
   ]
  },
  {
   "cell_type": "code",
   "execution_count": 21,
   "metadata": {},
   "outputs": [
    {
     "name": "stdout",
     "output_type": "stream",
     "text": [
      "['aj', 'ja', 'ak', 'ka', 'al', 'la', 'bj', 'jb', 'bk', 'kb', 'bl', 'lb', 'cj', 'jc', 'ck', 'kc', 'cl', 'lc']\n"
     ]
    }
   ],
   "source": [
    "string_maps = { \"1\": \"abc\", \"2\": \"def\", \"3\": \"ghi\", \"4\": \"jkl\", \"5\": \"mno\", \"6\": \"pqrs\", \"7\": \"tuv\", \"8\": \"wxy\", \"9\": \"z\" }\n",
    "def combinations(a,b,string_maps):\n",
    "    result=[]\n",
    "    source_1=string_maps[a]\n",
    "    source_2=string_maps[b]\n",
    "    for i in source_1:\n",
    "        for j in source_2:\n",
    "            seq=i+j\n",
    "            seq2=j+i\n",
    "            result.append(seq)\n",
    "            result.append(seq2)\n",
    "\n",
    "    print(result)\n",
    "\n",
    "combinations(\"1\",\"4\",string_maps)\n",
    "\n"
   ]
  },
  {
   "cell_type": "markdown",
   "metadata": {},
   "source": [
    "### Exercice 2:\n",
    "Write a Python program to add two positive integers without using the '+' operator. \n",
    "Note: Use bit wise operations to add two numbers.\n"
   ]
  },
  {
   "cell_type": "markdown",
   "metadata": {},
   "source": [
    "### Solution:"
   ]
  },
  {
   "cell_type": "code",
   "execution_count": 19,
   "metadata": {},
   "outputs": [
    {
     "data": {
      "text/plain": [
       "8"
      ]
     },
     "execution_count": 19,
     "metadata": {},
     "output_type": "execute_result"
    }
   ],
   "source": [
    "#from geeksforgeeks\n",
    "def addOne(x) :\n",
    "    m = 1;\n",
    "    while(x & m):\n",
    "        x = x ^ m\n",
    "        m <<= 1\n",
    "    x = x ^ m\n",
    "    return x\n",
    "\n",
    "def addition(x,y):\n",
    "    for i in range(y):\n",
    "        x = addOne(x)\n",
    "    return x\n",
    "addition(5,3)"
   ]
  },
  {
   "cell_type": "markdown",
   "metadata": {},
   "source": [
    "### Exercice 3:\n",
    "\n",
    "A strobogrammatic number is a number whose numeral is rotationally symmetric, so that it appears the same when rotated 180 degrees. In other words, the numeral looks the same right-side up and upside down (e.g., 69, 96, 1001).\n",
    "For example,\n",
    "Given n = 2, return [\"11\", \"69\", \"88\", \"96\"].\n",
    "Given n = 3, return ['818', '111', '916', '619', '808', '101', '906', '609', '888', '181', '986', '689']"
   ]
  },
  {
   "cell_type": "markdown",
   "metadata": {},
   "source": [
    "### Solution:"
   ]
  },
  {
   "cell_type": "code",
   "execution_count": 8,
   "metadata": {},
   "outputs": [],
   "source": [
    "def bigbig(n):\n",
    "    x=\"1\"\n",
    "    for i in range(n):\n",
    "        x=x+\"0\"\n",
    "    return int(x)\n",
    "def is_correct(element,n):\n",
    "    List=[\"1\",\"6\",\"9\",\"8\",\"0\"]\n",
    "    is_correct=True\n",
    "    if len(element) != n:\n",
    "        return False\n",
    "    for i in range(len(element)//2):\n",
    "            if element[i] in List:\n",
    "                is_1=element[i]==\"1\"\n",
    "                is_8=element[i]==\"8\"\n",
    "                is_0=element[i]==\"0\"\n",
    "                is_6=element[i]==\"6\"\n",
    "                is_9=element[i]==\"9\"\n",
    "                is_symetric= element[i] == element[-i-1]\n",
    "                is_asymetric= is_6 and \"9\" == element[-i-1] or is_9 and \"6\"== element[-i-1]\n",
    "\n",
    "                is_correct=is_correct and ((is_1 or is_8 or is_0) and is_symetric) or ((is_6 or is_9) and is_asymetric)\n",
    "                if not is_correct:\n",
    "                    return False\n",
    "            else:\n",
    "                return False\n",
    "    if n%2 != 0 :\n",
    "        is_1=element[len(element)//2]==\"1\"\n",
    "        is_8=element[len(element)//2]==\"8\"\n",
    "        is_0=element[len(element)//2]==\"0\"\n",
    "        if not (is_1 or is_8 or is_0):\n",
    "            return False\n",
    "    return is_correct\n"
   ]
  },
  {
   "cell_type": "code",
   "execution_count": 9,
   "metadata": {
    "scrolled": true
   },
   "outputs": [
    {
     "data": {
      "text/plain": [
       "['101',\n",
       " '111',\n",
       " '181',\n",
       " '609',\n",
       " '619',\n",
       " '689',\n",
       " '808',\n",
       " '818',\n",
       " '888',\n",
       " '906',\n",
       " '916',\n",
       " '986']"
      ]
     },
     "execution_count": 9,
     "metadata": {},
     "output_type": "execute_result"
    }
   ],
   "source": [
    "def strobo(n):\n",
    "    result=[]\n",
    "    for element in range(bigbig(n)):\n",
    "        current_element = str(element)\n",
    "        add=is_correct(current_element,n)\n",
    "       \n",
    "        if add:\n",
    "            result.append(current_element)\n",
    "    return result\n",
    "strobo(3)"
   ]
  },
  {
   "cell_type": "code",
   "execution_count": null,
   "metadata": {},
   "outputs": [],
   "source": []
  }
 ],
 "metadata": {
  "kernelspec": {
   "display_name": "Python 3",
   "language": "python",
   "name": "python3"
  },
  "language_info": {
   "codemirror_mode": {
    "name": "ipython",
    "version": 3
   },
   "file_extension": ".py",
   "mimetype": "text/x-python",
   "name": "python",
   "nbconvert_exporter": "python",
   "pygments_lexer": "ipython3",
   "version": "3.7.6"
  }
 },
 "nbformat": 4,
 "nbformat_minor": 4
}
